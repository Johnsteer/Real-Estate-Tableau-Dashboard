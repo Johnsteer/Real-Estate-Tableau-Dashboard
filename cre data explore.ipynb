{
 "cells": [
  {
   "cell_type": "code",
   "execution_count": 49,
   "metadata": {},
   "outputs": [],
   "source": [
    "import pandas as pd\n",
    "import numpy as np\n",
    "import openpyxl\n",
    "import re"
   ]
  },
  {
   "cell_type": "code",
   "execution_count": 50,
   "metadata": {},
   "outputs": [],
   "source": [
    "df = pd.read_excel(\"credata.xlsx\", engine = \"openpyxl\")"
   ]
  },
  {
   "cell_type": "markdown",
   "metadata": {},
   "source": [
    "# Drop Useless Columns"
   ]
  },
  {
   "cell_type": "code",
   "execution_count": 51,
   "metadata": {},
   "outputs": [],
   "source": [
    "df.drop(df.columns[-8:], axis = 1, inplace = True)\n",
    "df.drop(columns = [\"Owner Name\",\"Mailing Address\",\"Email\",\"EMAIL\",\"phone, 2\",\"secondary broker\"], inplace = True)\n",
    "df.drop(columns = [\"Number of Units\"], inplace = True)\n",
    "df.drop(columns = [\"Total area\"], inplace = True)"
   ]
  },
  {
   "cell_type": "markdown",
   "metadata": {},
   "source": [
    "## Clean Price Column And Convert to Integer"
   ]
  },
  {
   "cell_type": "code",
   "execution_count": 52,
   "metadata": {},
   "outputs": [],
   "source": [
    "df = df[df[\"Price\"].str.contains(\"-\")==False]\n",
    "df[\"Price\"] = df[\"Price\"].apply(lambda x: x[1:])\n",
    "df[\"Price\"] = df[\"Price\"].apply(lambda x: x.replace(\",\", \"\"))\n",
    "df[\"Price\"] = [\"DROP\" if \".\" in x else x for x in df[\"Price\"]]\n",
    "df.drop(df[df[\"Price\"] == \"DROP\"].index, inplace = True)\n",
    "df.drop(df[df[\"Price\"] == \"ot Type\"].index, inplace = True)\n",
    "df[\"Price\"] = [\"DROP\" if \" \" in x else x for x in df[\"Price\"]]\n",
    "df.drop(df[df[\"Price\"] == \"\"].index, inplace = True)\n",
    "df.drop(df[df[\"Price\"] == \"DROP\"].index, inplace = True)"
   ]
  },
  {
   "cell_type": "code",
   "execution_count": 53,
   "metadata": {},
   "outputs": [],
   "source": [
    "df[\"Price\"] = df[\"Price\"].apply(lambda x : int(x))"
   ]
  },
  {
   "cell_type": "markdown",
   "metadata": {},
   "source": [
    "## Create City, State, Zip Columns"
   ]
  },
  {
   "cell_type": "code",
   "execution_count": 54,
   "metadata": {},
   "outputs": [],
   "source": [
    "df[\"split\"] = [x.split(\",\") for x in df[\"Address\"]]\n",
    "df[\"city\"] = [x[0] for x in df[\"split\"]]\n",
    "\n",
    "df.drop(df[df[\"split\"].apply(len) == 1].index, inplace = True)\n",
    "\n",
    "df[\"state\"] = [x[1].strip().split()[0] for x in df[\"split\"]]\n",
    "df[\"zipcode\"] = [x[1].strip().split()[1] for x in df[\"split\"]]"
   ]
  },
  {
   "cell_type": "markdown",
   "metadata": {},
   "source": [
    "## Drop Number of Stories Column"
   ]
  },
  {
   "cell_type": "code",
   "execution_count": 55,
   "metadata": {},
   "outputs": [],
   "source": [
    "df.drop(columns = [\"Number Of Stories\"], inplace = True)"
   ]
  },
  {
   "cell_type": "markdown",
   "metadata": {},
   "source": [
    "## Clean Lot Size"
   ]
  },
  {
   "cell_type": "code",
   "execution_count": 56,
   "metadata": {},
   "outputs": [],
   "source": [
    "df.drop(df[(df[\"Lot Size\"] == \"\") | (df[\"Lot Size\"] == \" \")].index, inplace = True)\n",
    "df = df[df[\"Lot Size\"].str.contains(\"-\")==False]\n",
    "df[\"Lot Size\"] = df[\"Lot Size\"].apply(lambda x: x.strip())\n",
    "df[\"Lot Size\"] = df[\"Lot Size\"].apply(lambda x: x.split())\n",
    "df[\"Lot Size\"] = [x if len(x) == 2 else \"DROP\" for x in df[\"Lot Size\"]]\n",
    "df.drop(df[df[\"Lot Size\"] == \"DROP\"].index, inplace = True)\n",
    "df[\"Lot Size\"] = df[\"Lot Size\"].apply(lambda x: \" \".join(x))\n",
    "df[\"Lot Size\"] = df[\"Lot Size\"].apply(lambda x: x.replace(\",\", \"\"))"
   ]
  },
  {
   "cell_type": "markdown",
   "metadata": {},
   "source": [
    "## Convert Acres to Square Foot for Consistency"
   ]
  },
  {
   "cell_type": "code",
   "execution_count": 57,
   "metadata": {},
   "outputs": [],
   "source": [
    "df[\"Lot Size\"] = [float(x.split()[0]) if x.split()[1] == \"SF\" \n",
    "                  else (float(x.split()[0]) * 43560)\n",
    "                  for x in df[\"Lot Size\"]]"
   ]
  },
  {
   "cell_type": "markdown",
   "metadata": {},
   "source": [
    "## Save Cleaned Data"
   ]
  },
  {
   "cell_type": "code",
   "execution_count": 30,
   "metadata": {},
   "outputs": [],
   "source": [
    "df.drop(columns = [\"split\",\"phone\",\"broker\"], inplace = True)\n",
    "df.drop(columns = [\"Year Built\"], inplace = True)\n",
    "df.drop(columns = [\"Address\"], inplace = True)\n",
    "df.rename(columns = {\"City\":\"Address\", \"Lot Size\":\"Lot Size (sqft)\", \"url\":\"Url\",\"city\":\"City\",\"state\":\"State\",\"zipcode\":\"Zipcode\"}, \n",
    "          inplace = True)\n",
    "df.to_excel(\"credata_cleaned.xlsx\")"
   ]
  }
 ],
 "metadata": {
  "kernelspec": {
   "display_name": "Python 3",
   "language": "python",
   "name": "python3"
  },
  "language_info": {
   "codemirror_mode": {
    "name": "ipython",
    "version": 3
   },
   "file_extension": ".py",
   "mimetype": "text/x-python",
   "name": "python",
   "nbconvert_exporter": "python",
   "pygments_lexer": "ipython3",
   "version": "3.9.0"
  }
 },
 "nbformat": 4,
 "nbformat_minor": 4
}
